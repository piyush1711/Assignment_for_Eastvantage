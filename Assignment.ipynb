{
 "cells": [
  {
   "cell_type": "code",
   "execution_count": 5,
   "id": "101cf3a9-055c-4495-9c47-f5a3f989a741",
   "metadata": {},
   "outputs": [
    {
     "name": "stdout",
     "output_type": "stream",
     "text": [
      "CSV file has been created successfully.\n"
     ]
    }
   ],
   "source": [
    "import sqlite3\n",
    "import csv\n",
    "# Connect to the SQLite database file\n",
    "conn = sqlite3.connect('S30ETLAssignment.db')\n",
    "\n",
    "# Create a cursor object to execute SQL queries\n",
    "cursor = conn.cursor()\n",
    "\n",
    "# For each customer, get the sum of each item\n",
    "#cursor.execute(\"SELECT Sales.customer_id, SUM(Orders.quantity) AS TOTAL_QT FROM Sales INNER JOIN Orders on sales.sales_id = Orders.sales_id where sales.customer_id in (select customer_id FROM Customers WHERE age < 35 AND age > 20)\")\n",
    "\n",
    "cursor.execute(\"SELECT c.customer_id, i.item_id, COALESCE(SUM(o.quantity), 0) AS total_quantity FROM Customers c JOIN Sales s ON c.customer_id= s.customer_id JOIN Orders o ON s.sales_id = o.sales_id JOIN Items i ON o.item_id = i.item_id WHERE c.age BETWEEN 18 AND 35 GROUP BY c.customer_id, i.item_id HAVING total_quantity > 0\")\n",
    "\n",
    "rows = cursor.fetchall()\n",
    "\n",
    "# Close the database connection when done\n",
    "conn.close()\n",
    "\n",
    "csv_filename = \"customer_item_quantities_with_SQL.csv\"\n",
    "\n",
    "#Creating a CSV file\n",
    "with open(csv_filename, 'w', newline='') as csvfile:\n",
    "    # writing the results on CSV file\n",
    "    csv_writer = csv.writer(csvfile, delimiter=';')\n",
    "    csv_writer.writerow(['Customer ID', 'Item ID', 'Total Quantity'])\n",
    "    csv_writer.writerows(rows)\n",
    "\n",
    "print(\"CSV file has been created successfully.\")\n"
   ]
  },
  {
   "cell_type": "code",
   "execution_count": null,
   "id": "2b3bece4-fd1a-4b86-9074-0e18d1c0ddbb",
   "metadata": {},
   "outputs": [],
   "source": []
  },
  {
   "cell_type": "code",
   "execution_count": null,
   "id": "bca5f4b1-e124-4baa-ae2f-07b6b3b47554",
   "metadata": {},
   "outputs": [],
   "source": []
  }
 ],
 "metadata": {
  "kernelspec": {
   "display_name": "Python 3 (ipykernel)",
   "language": "python",
   "name": "python3"
  },
  "language_info": {
   "codemirror_mode": {
    "name": "ipython",
    "version": 3
   },
   "file_extension": ".py",
   "mimetype": "text/x-python",
   "name": "python",
   "nbconvert_exporter": "python",
   "pygments_lexer": "ipython3",
   "version": "3.10.12"
  }
 },
 "nbformat": 4,
 "nbformat_minor": 5
}
