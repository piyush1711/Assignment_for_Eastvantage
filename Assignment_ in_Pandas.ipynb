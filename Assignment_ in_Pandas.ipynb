{
 "cells": [
  {
   "cell_type": "code",
   "execution_count": 1,
   "id": "513343a8-be9b-4ca1-baf4-3b3d809feaf6",
   "metadata": {},
   "outputs": [],
   "source": [
    "import sqlite3\n",
    "import pandas as pd\n",
    "\n",
    "# Connect to the SQLite database file\n",
    "conn = sqlite3.connect('S30ETLAssignment.db')\n",
    "\n",
    "#selecting the tabels to an individual variables\n",
    "Customer_query = \"SELECT * FROM Customers\"\n",
    "Orders_query = \"SELECT * FROM Orders\"\n",
    "Sales_query = \"SELECT * FROM Sales\"\n",
    "Items_query = \"SELECT * FROM Items\"\n",
    "\n",
    "#Executing the queries and creatning respective dataframes\n",
    "\n",
    "customer_df = pd.read_sql_query(Customer_query, conn)\n",
    "orders_df = pd.read_sql_query(Orders_query, conn)\n",
    "sales_df = pd.read_sql_query(Sales_query, conn)\n",
    "items_df = pd.read_sql_query(Items_query, conn)\n",
    "\n",
    "# Merging all the table(dataframes) and creating one Dataframe\n",
    "\n",
    "merged_df = pd.merge(customer_df, sales_df, on='customer_id')\n",
    "merged_df = pd.merge(merged_df, orders_df, on='sales_id')\n",
    "merged_df = pd.merge(merged_df, items_df, on='item_id')\n",
    "\n",
    "# Filtering the data of customers aged 18-35\n",
    "merged_df = merged_df[(merged_df['age'] >= 18) & (merged_df['age'] <= 35)]\n",
    "\n",
    "# total quantities of each item bought per customer\n",
    "result_df = merged_df.groupby(['customer_id', 'item_id'])['quantity'].sum().reset_index()\n",
    "\n",
    "# Removing the None Values of Quantities\n",
    "result_df = result_df[result_df['quantity'] > 0]\n",
    "#print(result_df)\n",
    "# Exporting the result to CSV file\n",
    "result_df.to_csv('customer_item_quantities_with_pandas.csv', sep=';', index=False)\n",
    "\n",
    "# Closing the connection from DB\n",
    "conn.close()"
   ]
  },
  {
   "cell_type": "code",
   "execution_count": null,
   "id": "f5879137-be54-43d8-a91f-df2bda942bfa",
   "metadata": {},
   "outputs": [],
   "source": []
  }
 ],
 "metadata": {
  "kernelspec": {
   "display_name": "Python 3 (ipykernel)",
   "language": "python",
   "name": "python3"
  },
  "language_info": {
   "codemirror_mode": {
    "name": "ipython",
    "version": 3
   },
   "file_extension": ".py",
   "mimetype": "text/x-python",
   "name": "python",
   "nbconvert_exporter": "python",
   "pygments_lexer": "ipython3",
   "version": "3.10.12"
  }
 },
 "nbformat": 4,
 "nbformat_minor": 5
}
